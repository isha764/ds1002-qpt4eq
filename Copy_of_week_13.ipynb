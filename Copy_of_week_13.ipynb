{
  "nbformat": 4,
  "nbformat_minor": 0,
  "metadata": {
    "colab": {
      "provenance": [],
      "include_colab_link": true
    },
    "kernelspec": {
      "name": "ir",
      "display_name": "R"
    },
    "language_info": {
      "name": "R"
    }
  },
  "cells": [
    {
      "cell_type": "markdown",
      "metadata": {
        "id": "view-in-github",
        "colab_type": "text"
      },
      "source": [
        "<a href=\"https://colab.research.google.com/github/isha764/ds1002-qpt4eq/blob/main/Copy_of_week_13.ipynb\" target=\"_parent\"><img src=\"https://colab.research.google.com/assets/colab-badge.svg\" alt=\"Open In Colab\"/></a>"
      ]
    },
    {
      "cell_type": "markdown",
      "source": [
        "# Homework - Week 13\n",
        "\n",
        "Complete the following blocks as specified in the directions. Run each cell to return the desired output. Save your notebook back to your GitHub repository and submit the GitHub URL to your notebook for review."
      ],
      "metadata": {
        "id": "sZruw3XQogej"
      }
    },
    {
      "cell_type": "markdown",
      "source": [
        "## 1. Change Runtime to R (1 pt)\n",
        "\n",
        "Change the runtime of this notebook to R. You can verify that you are running R by displaying the current version you are running. Run the cell below and show the output."
      ],
      "metadata": {
        "id": "KmpG99aAokL9"
      }
    },
    {
      "cell_type": "code",
      "execution_count": 1,
      "metadata": {
        "id": "k03Z1NKAoZrW",
        "colab": {
          "base_uri": "https://localhost:8080/",
          "height": 277
        },
        "outputId": "4bd79a52-96fc-421e-844b-5d96f8ba2ee8"
      },
      "outputs": [
        {
          "output_type": "display_data",
          "data": {
            "text/plain": [
              "               _                           \n",
              "platform       x86_64-pc-linux-gnu         \n",
              "arch           x86_64                      \n",
              "os             linux-gnu                   \n",
              "system         x86_64, linux-gnu           \n",
              "status                                     \n",
              "major          4                           \n",
              "minor          3.2                         \n",
              "year           2023                        \n",
              "month          10                          \n",
              "day            31                          \n",
              "svn rev        85441                       \n",
              "language       R                           \n",
              "version.string R version 4.3.2 (2023-10-31)\n",
              "nickname       Eye Holes                   "
            ]
          },
          "metadata": {}
        }
      ],
      "source": [
        "version"
      ]
    },
    {
      "cell_type": "markdown",
      "source": [
        "## 2. Create Vectors (2 pts)\n",
        "\n",
        "Create two vectors in the cells below, according to the prompts given."
      ],
      "metadata": {
        "id": "lkaofBQypx1X"
      }
    },
    {
      "cell_type": "code",
      "source": [
        "# create a vector with 7 integer values. Assign it to a variable named \"my_integers\"\n",
        "my_integers <- c(5, 10, 15, 20, 25, 30, 35)"
      ],
      "metadata": {
        "id": "1fjq5bkEp6Zv"
      },
      "execution_count": 2,
      "outputs": []
    },
    {
      "cell_type": "code",
      "source": [
        "var1 = 8\n",
        "var2 = 4\n",
        "var3 = 12\n",
        "var4 = 25\n",
        "\n",
        "# Using the variables given above, assign three new variables the following calculated values:\n",
        "# 1. Your first variable should be assigned the calculated value of var2 divided by var1.\n",
        "# 2. Your second variable should be assigned the calculated value of var2 cubed times var3.\n",
        "# 3. Your third variable should be assigned the calculated value of var4 integer divided by var3.\n",
        "#\n",
        "# Next, create an array populated by your three variables. Assign the array to a new variable named \"my_calculated_values\"\n",
        "\n",
        "var1 <- 8\n",
        "var2 <- 4\n",
        "var3 <- 12\n",
        "var4 <- 25\n",
        "\n",
        "# Calculated values\n",
        "calculated_value_1 <- var2 / var1\n",
        "calculated_value_2 <- var2^3 * var3\n",
        "calculated_value_3 <- var4 %/% var3\n",
        "\n",
        "# Create an array with the calculated values\n",
        "my_calculated_values <- c(calculated_value_1, calculated_value_2, calculated_value_3)\n",
        "\n",
        "# Display the array\n",
        "print(my_calculated_values)"
      ],
      "metadata": {
        "id": "f3IFD-T6p6Rd",
        "colab": {
          "base_uri": "https://localhost:8080/"
        },
        "outputId": "ad4ab39b-e3af-497b-a5b5-14b408534fc5"
      },
      "execution_count": 3,
      "outputs": [
        {
          "output_type": "stream",
          "name": "stdout",
          "text": [
            "[1]   0.5 768.0   2.0\n"
          ]
        }
      ]
    },
    {
      "cell_type": "markdown",
      "source": [
        "## 3. Vector Indexes (3 pts)"
      ],
      "metadata": {
        "id": "F6Rx0GIGrpOB"
      }
    },
    {
      "cell_type": "markdown",
      "source": [
        "In the cell below, create a vector that starts with the integer 4, that increments by counts of 3 all the way to 28.\n",
        "\n",
        "Assign the vector to a variable name."
      ],
      "metadata": {
        "id": "IDLyOjOJsFCX"
      }
    },
    {
      "cell_type": "code",
      "source": [
        "my_vector <- seq(from = 4, to = 28, by = 3)\n",
        "\n",
        "# Display the vector\n",
        "print(my_vector)\n"
      ],
      "metadata": {
        "id": "0D5Ia-BPsoPZ",
        "colab": {
          "base_uri": "https://localhost:8080/"
        },
        "outputId": "beb72d19-0240-449b-c829-e23888164beb"
      },
      "execution_count": 26,
      "outputs": [
        {
          "output_type": "stream",
          "name": "stdout",
          "text": [
            "[1]  4  7 10 13 16 19 22 25 28\n"
          ]
        }
      ]
    },
    {
      "cell_type": "markdown",
      "source": [
        "Next, show how to display this vector with the 3 index removed."
      ],
      "metadata": {
        "id": "RxFRiRMvtfXI"
      }
    },
    {
      "cell_type": "code",
      "source": [
        "my_vector <- seq(from = 4, to = 28, by = 3)\n",
        "\n",
        "# Remove the element at the 3rd index\n",
        "my_vector_without_3rd <- my_vector[-3]\n",
        "\n",
        "# Display the modified vector\n",
        "print(my_vector_without_3rd)\n"
      ],
      "metadata": {
        "id": "MBg7V1LztQlv",
        "colab": {
          "base_uri": "https://localhost:8080/"
        },
        "outputId": "514db4a6-d23a-4c20-8fd1-ae19a572630b"
      },
      "execution_count": 22,
      "outputs": [
        {
          "output_type": "stream",
          "name": "stdout",
          "text": [
            "[1]  4  7 13 16 19 22 25 28\n"
          ]
        }
      ]
    },
    {
      "cell_type": "markdown",
      "source": [
        "Finally, show how to delete the 4th, 5th, and 7th indexes from the vector and update the vector so they are forever removed from the vector.\n",
        "\n",
        "Hint: there is a fairly simple way to do this in one line, such that you don't have to run a separate command for each removal."
      ],
      "metadata": {
        "id": "Rmci-rVCtq-C"
      }
    },
    {
      "cell_type": "code",
      "source": [
        "my_vector <- my_vector[-c(4, 5, 7)]\n",
        "print(my_vector)\n"
      ],
      "metadata": {
        "id": "y1k0NHNruFX2",
        "colab": {
          "base_uri": "https://localhost:8080/"
        },
        "outputId": "e9901b09-757a-4b2c-907d-4a7c65f6c06d"
      },
      "execution_count": 24,
      "outputs": [
        {
          "output_type": "stream",
          "name": "stdout",
          "text": [
            "[1]  4  7 10 28\n"
          ]
        }
      ]
    },
    {
      "cell_type": "markdown",
      "source": [
        "## 4. Create a Data Frame (3 pts)\n",
        "\n",
        "In the cell below create a data frame with 10 observations (rows) and 5 variables (columns) each. This data frame will describe some of your favorite musical performers. You can use real or fictitious data to populate your data frame.\n",
        "\n",
        "Variables:\n",
        "  - `artist` - Artist or band name\n",
        "  - `category` - Rock, Pop, Country, Hip-hop, Jazz, Classical, Soul, Other. (Try to distribute your selections here)\n",
        "  - `size` - (number of members, 1-?)\n",
        "  - `start` - Debut year of artist.\n",
        "  - `grammy` - Grammmy winner? `TRUE` | `FALSE`\n",
        "\n",
        "First create vectors for each variable populated with your own performer data. Then create a data frame from these vectors (be sure to assign column names too) and assign it to a named variable such as `df`."
      ],
      "metadata": {
        "id": "-2ZaFcCCv3o8"
      }
    },
    {
      "cell_type": "code",
      "source": [
        "#\n",
        "favorite_performers <- data.frame(\n",
        "  artist = c(\"Taylor Swift\", \"Beyoncé\", \"Ed Sheeran\", \"Adele\", \"Drake\",\n",
        "           \"Rihanna\", \"Bruno Mars\", \"Ariana Grande\", \"Justin Bieber\", \"BTS\"),\n",
        "  category = c(\"Pop\", \"R&B\", \"Pop\", \"Pop\", \"Hip-Hop\",\n",
        "            \"R&B\", \"Pop\", \"Pop\", \"Pop\", \"Alternative/Pop-Rock\"),\n",
        "  size = c(1, 1, 1, 1, 1, 1, 1, 1,1 , 7),\n",
        "  start = c(2006, 2003, 2004, 2008, 2010,2005, 2006, 2013, 2009, 2013),\n",
        "  grammy = c(TRUE, TRUE, TRUE, TRUE, TRUE, TRUE, TRUE, TRUE, TRUE, FALSE)\n",
        ")"
      ],
      "metadata": {
        "id": "V4nBsdVsyauQ"
      },
      "execution_count": 11,
      "outputs": []
    },
    {
      "cell_type": "markdown",
      "source": [
        "## 5. Filter/Query a Data Frame (2 pts)\n",
        "\n",
        "Use the data frame you created above and show how to perform the following queries."
      ],
      "metadata": {
        "id": "nG5m-FIRydNU"
      }
    },
    {
      "cell_type": "code",
      "source": [
        "# Display the first 3 records and only the `artist`, `category` and `grammy` columns for each.\n",
        "subset_data <- favorite_performers[1:3, c(\"artist\", \"category\", \"grammy\")]\n",
        "print(subset_data)"
      ],
      "metadata": {
        "id": "OlmbfFi6zSgR",
        "colab": {
          "base_uri": "https://localhost:8080/"
        },
        "outputId": "6d7a3487-424e-43a9-e95f-1bdcd287d93d"
      },
      "execution_count": 12,
      "outputs": [
        {
          "output_type": "stream",
          "name": "stdout",
          "text": [
            "        artist category grammy\n",
            "1 Taylor Swift      Pop   TRUE\n",
            "2      Beyoncé      R&B   TRUE\n",
            "3   Ed Sheeran      Pop   TRUE\n"
          ]
        }
      ]
    },
    {
      "cell_type": "code",
      "source": [
        "# Display the records for just one musical category, such as only Rock bands or only Hip-hop bands.\n",
        "pop_bands <- favorite_performers[favorite_performers$category == \"Pop\", ]\n",
        "\n",
        "# Display the records for Pop bands\n",
        "print(pop_bands)"
      ],
      "metadata": {
        "id": "-l_kpWSzzlhG",
        "colab": {
          "base_uri": "https://localhost:8080/"
        },
        "outputId": "7f0fa32a-598e-49ea-da4d-76d6737016c4"
      },
      "execution_count": 17,
      "outputs": [
        {
          "output_type": "stream",
          "name": "stdout",
          "text": [
            "         artist category size start grammy\n",
            "1  Taylor Swift      Pop    1  2006   TRUE\n",
            "3    Ed Sheeran      Pop    1  2004   TRUE\n",
            "4         Adele      Pop    1  2008   TRUE\n",
            "7    Bruno Mars      Pop    1  2006   TRUE\n",
            "8 Ariana Grande      Pop    1  2013   TRUE\n",
            "9 Justin Bieber      Pop    1  2009   TRUE\n"
          ]
        }
      ]
    },
    {
      "cell_type": "markdown",
      "source": [
        "## Query a Data Frame using `tidyverse` (4 pts)\n",
        "\n",
        "1. Show how to load the library.\n",
        "2. Show how to glimpse basic features of the `starwars` data table.\n",
        "3. Create a query using tidyverse that retrieves the following data:\n",
        "    - Selects only these columns: `name`, `height`, `sex`, `species`.\n",
        "    - Filters for all species that are NOT Human.\n",
        "    - Arranges the resulting data in order by name.\n",
        "\n",
        "Show your output in a data frame."
      ],
      "metadata": {
        "id": "L-xnszjS0Byy"
      }
    },
    {
      "cell_type": "code",
      "source": [
        "library(tidyverse)\n",
        "glimpse(starwars)\n",
        "result <- starwars %>%\n",
        "  select(name, height, sex, species) %>%\n",
        "  filter(species != \"Human\") %>%\n",
        "  arrange(name)\n",
        "print(result)\n",
        "\n"
      ],
      "metadata": {
        "id": "yTMLzrxS0F4u",
        "colab": {
          "base_uri": "https://localhost:8080/"
        },
        "outputId": "54464c02-497c-47e0-e7d0-2d1a846d6650"
      },
      "execution_count": 21,
      "outputs": [
        {
          "output_type": "stream",
          "name": "stdout",
          "text": [
            "Rows: 87\n",
            "Columns: 14\n",
            "$ name       \u001b[3m\u001b[90m<chr>\u001b[39m\u001b[23m \"Luke Skywalker\", \"C-3PO\", \"R2-D2\", \"Darth Vader\", \"Leia Or…\n",
            "$ height     \u001b[3m\u001b[90m<int>\u001b[39m\u001b[23m 172, 167, 96, 202, 150, 178, 165, 97, 183, 182, 188, 180, 2…\n",
            "$ mass       \u001b[3m\u001b[90m<dbl>\u001b[39m\u001b[23m 77.0, 75.0, 32.0, 136.0, 49.0, 120.0, 75.0, 32.0, 84.0, 77.…\n",
            "$ hair_color \u001b[3m\u001b[90m<chr>\u001b[39m\u001b[23m \"blond\", NA, NA, \"none\", \"brown\", \"brown, grey\", \"brown\", N…\n",
            "$ skin_color \u001b[3m\u001b[90m<chr>\u001b[39m\u001b[23m \"fair\", \"gold\", \"white, blue\", \"white\", \"light\", \"light\", \"…\n",
            "$ eye_color  \u001b[3m\u001b[90m<chr>\u001b[39m\u001b[23m \"blue\", \"yellow\", \"red\", \"yellow\", \"brown\", \"blue\", \"blue\",…\n",
            "$ birth_year \u001b[3m\u001b[90m<dbl>\u001b[39m\u001b[23m 19.0, 112.0, 33.0, 41.9, 19.0, 52.0, 47.0, NA, 24.0, 57.0, …\n",
            "$ sex        \u001b[3m\u001b[90m<chr>\u001b[39m\u001b[23m \"male\", \"none\", \"none\", \"male\", \"female\", \"male\", \"female\",…\n",
            "$ gender     \u001b[3m\u001b[90m<chr>\u001b[39m\u001b[23m \"masculine\", \"masculine\", \"masculine\", \"masculine\", \"femini…\n",
            "$ homeworld  \u001b[3m\u001b[90m<chr>\u001b[39m\u001b[23m \"Tatooine\", \"Tatooine\", \"Naboo\", \"Tatooine\", \"Alderaan\", \"T…\n",
            "$ species    \u001b[3m\u001b[90m<chr>\u001b[39m\u001b[23m \"Human\", \"Droid\", \"Droid\", \"Human\", \"Human\", \"Human\", \"Huma…\n",
            "$ films      \u001b[3m\u001b[90m<list>\u001b[39m\u001b[23m <\"The Empire Strikes Back\", \"Revenge of the Sith\", \"Return…\n",
            "$ vehicles   \u001b[3m\u001b[90m<list>\u001b[39m\u001b[23m <\"Snowspeeder\", \"Imperial Speeder Bike\">, <>, <>, <>, \"Imp…\n",
            "$ starships  \u001b[3m\u001b[90m<list>\u001b[39m\u001b[23m <\"X-wing\", \"Imperial shuttle\">, <>, <>, \"TIE Advanced x1\",…\n",
            "\u001b[90m# A tibble: 48 × 4\u001b[39m\n",
            "   name           height sex    species     \n",
            "   \u001b[3m\u001b[90m<chr>\u001b[39m\u001b[23m           \u001b[3m\u001b[90m<int>\u001b[39m\u001b[23m \u001b[3m\u001b[90m<chr>\u001b[39m\u001b[23m  \u001b[3m\u001b[90m<chr>\u001b[39m\u001b[23m       \n",
            "\u001b[90m 1\u001b[39m Ackbar            180 male   Mon Calamari\n",
            "\u001b[90m 2\u001b[39m Adi Gallia        184 female Tholothian  \n",
            "\u001b[90m 3\u001b[39m Ayla Secura       178 female Twi'lek     \n",
            "\u001b[90m 4\u001b[39m BB8                \u001b[31mNA\u001b[39m none   Droid       \n",
            "\u001b[90m 5\u001b[39m Barriss Offee     166 female Mirialan    \n",
            "\u001b[90m 6\u001b[39m Ben Quadinaros    163 male   Toong       \n",
            "\u001b[90m 7\u001b[39m Bib Fortuna       180 male   Twi'lek     \n",
            "\u001b[90m 8\u001b[39m Bossk             190 male   Trandoshan  \n",
            "\u001b[90m 9\u001b[39m C-3PO             167 none   Droid       \n",
            "\u001b[90m10\u001b[39m Chewbacca         228 male   Wookiee     \n",
            "\u001b[90m# ℹ 38 more rows\u001b[39m\n"
          ]
        }
      ]
    }
  ]
}