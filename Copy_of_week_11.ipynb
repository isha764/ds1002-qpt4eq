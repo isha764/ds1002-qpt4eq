{
  "nbformat": 4,
  "nbformat_minor": 0,
  "metadata": {
    "colab": {
      "provenance": [],
      "include_colab_link": true
    },
    "kernelspec": {
      "name": "python3",
      "display_name": "Python 3"
    },
    "language_info": {
      "name": "python"
    }
  },
  "cells": [
    {
      "cell_type": "markdown",
      "metadata": {
        "id": "view-in-github",
        "colab_type": "text"
      },
      "source": [
        "<a href=\"https://colab.research.google.com/github/isha764/ds1002-qpt4eq/blob/main/Copy_of_week_11.ipynb\" target=\"_parent\"><img src=\"https://colab.research.google.com/assets/colab-badge.svg\" alt=\"Open In Colab\"/></a>"
      ]
    },
    {
      "cell_type": "markdown",
      "source": [
        "# Homework - Error Handling & Recursion\n",
        "\n",
        "Complete the cells below. Pay close attention to all directions given.\n",
        "\n",
        "## Error Handling (3 pts)\n",
        "\n",
        "```\n",
        "def throw_me_an_error():\n",
        "  val1 = 14\n",
        "  val2 = 0\n",
        "  return val1 / val2\n",
        "\n",
        "throw_me_an_error()\n",
        "```\n",
        "\n",
        "The function above is designed to deliberately throw an error.\n",
        "\n",
        "Create a new version of the function but add `try` and `except` statements correctly. Your exception should print out the type of error this function created. There are a couple of different ways you could do this.\n"
      ],
      "metadata": {
        "id": "v14Xtd9oiTGF"
      }
    },
    {
      "cell_type": "code",
      "execution_count": null,
      "metadata": {
        "id": "-dfq0Vo_iSi7",
        "outputId": "4e90dbff-1b8f-47e6-9da3-20f75bb6d3a5",
        "colab": {
          "base_uri": "https://localhost:8080/"
        }
      },
      "outputs": [
        {
          "output_type": "stream",
          "name": "stdout",
          "text": [
            "An error occurred: ZeroDivisionError\n"
          ]
        }
      ],
      "source": [
        "# answer goes here.\n",
        "def handle_error():\n",
        "    val1 = 14\n",
        "    val2 = 0\n",
        "    try:\n",
        "        result = val1 / val2\n",
        "        return result\n",
        "    except ZeroDivisionError as error:\n",
        "        print(f\"An error occurred: {type(error).__name__}\")\n",
        "\n",
        "handle_error()"
      ]
    },
    {
      "cell_type": "markdown",
      "source": [
        "## Error Handling (4 pts)\n",
        "\n",
        "Extend the class below to include some error handling. Assume the remote resource is offline for a moment: How would you give a message to the user indicating what has gone wrong? (Hint: one way you can test this is by deliberately misspelling the URL for the remote resource.)\n",
        "\n",
        "Also, include error handling logic so that execution of the class method `guid()` always returns a line \"Your request has been completed\" along with the guid it created.\n",
        "\n",
        "```\n",
        "import requests\n",
        "import json\n",
        "import sys\n",
        "\n",
        "class Id:\n",
        "\n",
        "  def guid():\n",
        "    response = requests.get('https://ids.pods.uvarc.io/guid')\n",
        "    body = json.loads(response.text)\n",
        "    return body['id']\n",
        "\n",
        "Id.guid()\n",
        "```"
      ],
      "metadata": {
        "id": "gf9m78RWmWqC"
      }
    },
    {
      "cell_type": "code",
      "source": [
        "# answer goes here\n",
        "import requests\n",
        "import json\n",
        "\n",
        "class Id:\n",
        "\n",
        "    def guid():\n",
        "        try:\n",
        "            response = requests.get('https://ids.pods.uvarc.io/guid')\n",
        "            response.raise_for_status()  # Check for request errors\n",
        "\n",
        "            body = json.loads(response.text)\n",
        "            guid = body['id']\n",
        "            return f\"Your request has been completed. GUID: {guid}\"\n",
        "        except requests.exceptions.RequestException as e:\n",
        "            return f\"An error occurred while making the request: {e}\"\n",
        "\n",
        "result = Id.guid()\n",
        "print(result)"
      ],
      "metadata": {
        "id": "hT5B-LokmUbU",
        "outputId": "123b3828-4a02-47be-8935-6582086f87ba",
        "colab": {
          "base_uri": "https://localhost:8080/"
        }
      },
      "execution_count": null,
      "outputs": [
        {
          "output_type": "stream",
          "name": "stdout",
          "text": [
            "Your request has been completed. GUID: 0db51cff-edc5-43ae-a9ff-e5be5899b364\n"
          ]
        }
      ]
    },
    {
      "cell_type": "markdown",
      "source": [
        "## Recursive Functions (3 pts)\n",
        "\n",
        "In the cell below, explain line by line the logic of what is being calculated when the function is called with an input value of 2.\n",
        "\n",
        "```\n",
        "def squarer(n):\n",
        "  if n == 1:\n",
        "    return 2\n",
        "  else:\n",
        "    return squarer(n-1) ** 2 + n\n",
        "\n",
        "squarer(2)\n",
        "```"
      ],
      "metadata": {
        "id": "XCuNofSFomZ6"
      }
    },
    {
      "cell_type": "code",
      "source": [
        "# answer goes here. Add space as needed.\n",
        "\n",
        "Line 1. #The function squarer takes an argument n, which is initially set to 2 when calling squarer(2)\n",
        "Line 2. #Inside the function, it checks if n is equal to 1. If n is 1, it returns 2 immediately. This serves as the base case for the recursion. If n is not equal to 1 (which is the case when calling squarer(2)), it proceeds to the else block.\n",
        "Line 3. #In the else block, it recursively calls the squarer function with the argument n-1. In this case, it calls squarer(1).The result of squarer(1) is 2, as per the base case.\n",
        "Line 4. #The return statement in the else block calculates squarer(n-1) ** 2 + n. Substituting the value for n-1 (which is 1) and the result of squarer(1) (which is 2), we get 2 ** 2 + 1\n",
        "Line 5. # The final return value of the squarer(2) call is 5."
      ],
      "metadata": {
        "id": "oYiqS2cxxXm4"
      },
      "execution_count": null,
      "outputs": []
    }
  ]
}